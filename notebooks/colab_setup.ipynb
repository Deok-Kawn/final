{
  "cells": [
    {
      "cell_type": "raw",
      "metadata": {
        "vscode": {
          "languageId": "raw"
        }
      },
      "source": [
        "# 🚀 구글 코랩 환경 설정\n",
        "\n",
        "이 노트북은 구글 코랩에서 프로젝트를 시작할 때 사용하는 초기 설정 가이드입니다.\n",
        "\n",
        "[![Open In Colab](https://colab.research.google.com/assets/colab-badge.svg)](https://colab.research.google.com/github/Deok-Kawn/final/blob/main/notebooks/colab_setup.ipynb)\n"
      ]
    },
    {
      "cell_type": "raw",
      "metadata": {
        "vscode": {
          "languageId": "raw"
        }
      },
      "source": [
        "## 1. GitHub 저장소 클론 및 설정\n"
      ]
    },
    {
      "cell_type": "code",
      "execution_count": null,
      "metadata": {},
      "outputs": [],
      "source": [
        "# GitHub 저장소 클론\n",
        "!git clone https://github.com/Deok-Kawn/final.git\n",
        "%cd final\n",
        "\n",
        "# Git 사용자 정보 설정 (본인 정보로 변경하세요)\n",
        "!git config --global user.name \"팀원이름\"\n",
        "!git config --global user.email \"팀원이메일@example.com\"\n"
      ]
    },
    {
      "cell_type": "raw",
      "metadata": {
        "vscode": {
          "languageId": "raw"
        }
      },
      "source": [
        "## 2. 필수 라이브러리 설치\n"
      ]
    },
    {
      "cell_type": "code",
      "execution_count": null,
      "metadata": {},
      "outputs": [],
      "source": [
        "# requirements.txt가 있다면 설치\n",
        "!pip install -r requirements_python36.txt\n",
        "\n",
        "# 추가 필수 라이브러리\n",
        "!pip install seaborn plotly scikit-learn\n"
      ]
    },
    {
      "cell_type": "raw",
      "metadata": {
        "vscode": {
          "languageId": "raw"
        }
      },
      "source": [
        "## 3. 환경 설정 확인\n"
      ]
    },
    {
      "cell_type": "code",
      "execution_count": null,
      "metadata": {},
      "outputs": [],
      "source": [
        "import sys\n",
        "import pandas as pd\n",
        "import numpy as np\n",
        "import matplotlib.pyplot as plt\n",
        "import torch\n",
        "from pathlib import Path\n",
        "\n",
        "print(f\"Python 버전: {sys.version}\")\n",
        "print(f\"Pandas 버전: {pd.__version__}\")\n",
        "print(f\"PyTorch 버전: {torch.__version__}\")\n",
        "print(f\"CUDA 사용 가능: {torch.cuda.is_available()}\")\n",
        "\n",
        "# 프로젝트 구조 확인\n",
        "!ls -la\n"
      ]
    }
  ],
  "metadata": {
    "language_info": {
      "name": "python"
    }
  },
  "nbformat": 4,
  "nbformat_minor": 2
}
