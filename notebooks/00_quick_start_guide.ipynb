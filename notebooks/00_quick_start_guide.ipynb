{
  "cells": [
    {
      "cell_type": "raw",
      "metadata": {
        "vscode": {
          "languageId": "raw"
        }
      },
      "source": [
        "# 🚀 시계열 예측 프로젝트 - 빠른 시작 가이드\n",
        "\n",
        "이 노트북은 팀 프로젝트에 새로 참여하는 분들을 위한 빠른 시작 가이드입니다.\n",
        "\n",
        "## 📋 목차\n",
        "1. [환경 설정 확인](#환경-설정-확인)\n",
        "2. [데이터 로딩 및 확인](#데이터-로딩-및-확인)\n",
        "3. [기본 EDA](#기본-eda)\n",
        "4. [베이스라인 모델](#베이스라인-모델)\n",
        "5. [실험 추적 시스템](#실험-추적-시스템)\n",
        "6. [다음 단계](#다음-단계)\n"
      ]
    },
    {
      "cell_type": "raw",
      "metadata": {
        "vscode": {
          "languageId": "raw"
        }
      },
      "source": [
        "## 1. 환경 설정 확인\n"
      ]
    },
    {
      "cell_type": "code",
      "execution_count": null,
      "metadata": {},
      "outputs": [],
      "source": [
        "# 필수 라이브러리 임포트 및 버전 확인\n",
        "import sys\n",
        "import pandas as pd\n",
        "import numpy as np\n",
        "import matplotlib.pyplot as plt\n",
        "import seaborn as sns\n",
        "import torch\n",
        "from pathlib import Path\n",
        "\n",
        "print(f\"Python 버전: {sys.version}\")\n",
        "print(f\"Pandas 버전: {pd.__version__}\")\n",
        "print(f\"PyTorch 버전: {torch.__version__}\")\n",
        "print(f\"CUDA 사용 가능: {torch.cuda.is_available()}\")\n",
        "\n",
        "# 프로젝트 루트 디렉토리 설정\n",
        "project_root = Path('../').resolve()\n",
        "print(f\"프로젝트 루트: {project_root}\")\n"
      ]
    },
    {
      "cell_type": "raw",
      "metadata": {
        "vscode": {
          "languageId": "raw"
        }
      },
      "source": [
        "## 2. 데이터 로딩 및 확인\n"
      ]
    },
    {
      "cell_type": "code",
      "execution_count": null,
      "metadata": {},
      "outputs": [],
      "source": [
        "# sys.path에 src 디렉토리 추가\n",
        "import sys\n",
        "sys.path.append(str(project_root / 'src'))\n",
        "\n",
        "from data.loader import DataLoader\n",
        "\n",
        "# 데이터 로더 초기화\n",
        "data_loader = DataLoader(data_dir=project_root / 'data')\n",
        "\n",
        "# 학습 데이터 로딩\n",
        "train_data = data_loader.load_train_data()\n",
        "\n",
        "# 기본 정보 출력\n",
        "data_loader.get_basic_info()\n"
      ]
    }
  ],
  "metadata": {
    "language_info": {
      "name": "python"
    }
  },
  "nbformat": 4,
  "nbformat_minor": 2
}
